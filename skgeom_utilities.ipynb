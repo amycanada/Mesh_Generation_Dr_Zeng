{
 "cells": [
  {
   "cell_type": "code",
   "execution_count": 45,
   "id": "b141a47a",
   "metadata": {},
   "outputs": [
    {
     "name": "stdout",
     "output_type": "stream",
     "text": [
      "0.0\n"
     ]
    },
    {
     "data": {
      "image/png": "[encoded data removed]",
      "text/plain": [
       "<Figure size 432x288 with 1 Axes>"
      ]
     },
     "metadata": {
      "needs_background": "light"
     },
     "output_type": "display_data"
    }
   ],
   "source": [
    "from skgeom.draw import draw\n",
    "p2 = sg.Point2(0,0)\n",
    "p3 = sg.Point2(-2,3)\n",
    "p1 = sg.Point2(0,-3)\n",
    "print(get_angle(p1,p2,p3))\n",
    "circle = sg.Circle2(p0,9,sg.Sign.POSITIVE)\n",
    "draw(circle)\n",
    "draw(p1)\n",
    "draw(p2)\n",
    "draw(p3)"
   ]
  },
  {
   "cell_type": "code",
   "execution_count": 43,
   "id": "08006ae7",
   "metadata": {},
   "outputs": [],
   "source": [
    "import skgeom as sg\n",
    "import numpy as np\n",
    "import math\n",
    "#calculate angle <point1_point2_point3\n",
    "def get_angle(point1,point2,point3):\n",
    "    #calculate dy,dx\n",
    "    delta_y12 = point1.y() - point2.y()\n",
    "    delta_y32 = point3.y() - point2.y()\n",
    "    delta_x12 = point1.x() - point2.x()\n",
    "    delta_x32 = point3.x() - point2.x()\n",
    "    \n",
    "    #initialize slopes\n",
    "    slope1 = 0\n",
    "    slope2 = 0\n",
    "    angle = 0\n",
    "    \n",
    "    #if segment 1_2 is a vertical line, calculate the angle formed with segment 2_3 and the x-axis\n",
    "    if delta_x12 == 0:\n",
    "        point_x = sg.Point2(point2.x()+5, point2.y())\n",
    "        \n",
    "        #if point 1 and point 3 are in the first quadrant, calculate 90-angle formed with x-axis\n",
    "        if(point3.x() > point2.x() and point3.y() < point2.y() and delta_y12 > 0):\n",
    "            print('point 3: 1st, point1: 1st')\n",
    "            angle = 90 - get_angle(point1,point2,point_x)\n",
    "            return angle\n",
    "        \n",
    "        #if point 1 is in the first quadrant and point 3 is in the second quadrant, calculate 90+angle formed with x-axis\n",
    "        elif(point3.x() > point2.x() and point3.y() > point2.y() and delta_y12 > 0):\n",
    "            print('point 3: 2nd, point1: 1st')\n",
    "            angle = 90 + get_angle(point1,point2,point_x)\n",
    "            return angle\n",
    "        \n",
    "    #if segment 2_3 is a vertical line, calculate angle formed with segment 1_2 and the x-axis\n",
    "    elif delta_x32 == 0:\n",
    "        point_x = sg.Point2(point2.x()-5, point2.y())\n",
    "        \n",
    "        #if point 1 and point 3 are in the fourth quadrant, calculate angle formed with x-axis - 90\n",
    "        if(point1.x() < point2.x() and point1.y() >= point2.y() and delta_y32 > 0):\n",
    "            print('point 3: 4th, point1: 4th')\n",
    "            angle = 90 - np.abs(get_angle(point_x,point2,point1))\n",
    "            return angle\n",
    "        \n",
    "        #if point 3 is in the fourth quadrant and point 1 is in the third quadrant, calculate 90+angle formed with x-axis\n",
    "        elif(point1.x() < point2.x() and point1.y() <= point2.y() and delta_y32 > 0):\n",
    "            print('point 3: 4th, point1: 3rd')\n",
    "            angle = 90 + np.abs(get_angle(point_x,point2,point_1))\n",
    "            return angle\n",
    "        \n",
    "        #if point 1 and point 3 are in the third quadrant\n",
    "        else:\n",
    "            print('point 3: 3rd, point 1: 3rd')\n",
    "            angle = 90 - np.abs(get_angle(point_x,point2,point1))\n",
    "            return angle\n",
    "    else:\n",
    "        slope1 = float(delta_y12 / delta_x12)\n",
    "        slope2 = float(delta_y32 / delta_x32)\n",
    "        \n",
    "        #if angle is with horizontal line\n",
    "        if slope1 == 0 and slope2 != 0:\n",
    "            angle = np.arctan(slope2)\n",
    "        elif slope2 == 0 and slope1 != 0:\n",
    "            angle = np.arctan(slope1)\n",
    "        elif slope1 == -slope2:\n",
    "            angle = math.pi/2\n",
    "        else:\n",
    "            angle = np.arctan((slope1-slope2)/(1+slope1*slope2))\n",
    "            \n",
    "    return angle*180/math.pi"
   ]
  },
  {
   "cell_type": "code",
   "execution_count": null,
   "id": "3c464f5b",
   "metadata": {},
   "outputs": [],
   "source": [
    "import skgeom as sg\n",
    "import numpy as np\n",
    "\n",
    "class skgeom_utilities:\n",
    "    \n",
    "    #getting the angle between three points\n",
    "    def get_angle(point1,point2,point3):\n",
    "        \n",
    "        angle = None\n",
    "        slope1, slope2 = 0, 0\n",
    "        try:\n",
    "            slope1 = float((point1.y()-point2.y())/(point1.x()-point2.x()))\n",
    "            slope2 = float((point3.y()-point2.y())/(point3.x()-point2.x()))\n",
    "            if(slope1*slope2==-1):\n",
    "                angle = math.pi/2\n",
    "            else:\n",
    "                angle = np.arctan(np.abs((slope1-slope2)/(1+slope1*slope2)))\n",
    "                \n",
    "        except RuntimeError:\n",
    "            \n",
    "            #if angle is with horizontal line\n",
    "            if slope1 == 0 and slope2 != 0:\n",
    "                angle = np.arctan(np.abs(slope2))\n",
    "            elif slope2 == 0 and slope1 != 0:\n",
    "                angle = np.arctan(np.abs(slope1))\n",
    "\n",
    "            #if angle is with a vertical (undefined) line\n",
    "            else:\n",
    "                if(point1.x() == point2.x()):\n",
    "                    return (90 - get_angle(sg.Point2(point2.x() + 5,point2.y()),point2,point3))\n",
    "                elif(point2.x() == point3.x()):\n",
    "                    return (90 - get_angle(point1,point2,sg.Point2(point2.x() + 5,point2.y())))\n",
    "                \n",
    "        return angle*180/math.pi\n"
   ]
  }
 ],
 "metadata": {
  "kernelspec": {
   "display_name": "Python 3 (ipykernel)",
   "language": "python",
   "name": "python3"
  },
  "language_info": {
   "codemirror_mode": {
    "name": "ipython",
    "version": 3
   },
   "file_extension": ".py",
   "mimetype": "text/x-python",
   "name": "python",
   "nbconvert_exporter": "python",
   "pygments_lexer": "ipython3",
   "version": "3.9.7"
  }
 },
 "nbformat": 4,
 "nbformat_minor": 5
}
