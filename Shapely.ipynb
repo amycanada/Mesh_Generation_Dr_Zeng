{
 "cells": [
  {
   "cell_type": "code",
   "execution_count": 1,
   "id": "78d5506d",
   "metadata": {},
   "outputs": [
    {
     "name": "stdout",
     "output_type": "stream",
     "text": [
      "Requirement already satisfied: shapely in c:\\users\\schen\\anaconda3\\lib\\site-packages (1.8.2)\n",
      "Note: you may need to restart the kernel to use updated packages.\n"
     ]
    }
   ],
   "source": [
    "pip install shapely"
   ]
  },
  {
   "cell_type": "code",
   "execution_count": 47,
   "id": "7924a796",
   "metadata": {},
   "outputs": [
    {
     "name": "stdout",
     "output_type": "stream",
     "text": [
      "(array('d', [0.0, 0.0, 3.0, 0.0]), array('d', [3.0, 0.0, 0.0, 3.0]))\n",
      "{'type': 'Polygon', 'coordinates': (((0.0, 3.0), (0.0, 0.0), (3.0, 0.0), (0.0, 3.0)),)}\n",
      "LINEARRING (0 3, 0 0, 3 0, 0 3)\n"
     ]
    }
   ],
   "source": [
    "from shapely.geometry import MultiPoint, LineString, LinearRing, Polygon, mapping\n",
    "import matplotlib.pyplot as plt\n",
    "\n",
    "polygon = Polygon([(0,3),(0,0),(3,0)])\n",
    "print(polygon.exterior.coords.xy)\n",
    "print(mapping(polygon))\n",
    "ring = LinearRing([(0,3),(0,0),(3,0)])\n",
    "print(ring)"
   ]
  },
  {
   "cell_type": "code",
   "execution_count": 15,
   "id": "d4f2dcd4",
   "metadata": {},
   "outputs": [
    {
     "name": "stdout",
     "output_type": "stream",
     "text": [
      "Collecting pyshp\n",
      "  Downloading pyshp-2.3.0-py2.py3-none-any.whl (46 kB)\n",
      "Installing collected packages: pyshp\n",
      "Successfully installed pyshp-2.3.0\n",
      "Note: you may need to restart the kernel to use updated packages.\n"
     ]
    }
   ],
   "source": [
    "pip install pyshp"
   ]
  },
  {
   "cell_type": "code",
   "execution_count": 34,
   "id": "b4ec2f89",
   "metadata": {},
   "outputs": [],
   "source": [
    "import shapefile\n",
    "from shapely.geometry import mapping\n",
    "w = shapefile.Writer('shp/shp_test')\n",
    "w.field('geometry','C')\n",
    "geom = mapping(polygon)\n",
    "w.poly(geom['coordinates'])\n",
    "w.record(geom)\n",
    "w.close()"
   ]
  },
  {
   "cell_type": "code",
   "execution_count": 35,
   "id": "f859e2cf",
   "metadata": {},
   "outputs": [
    {
     "name": "stdout",
     "output_type": "stream",
     "text": [
      "5\n",
      "Shape #0: POLYGON\n",
      "[(0.0, 3.0), (0.0, 0.0), (3.0, 0.0), (0.0, 3.0)]\n"
     ]
    }
   ],
   "source": [
    "import shapefile\n",
    "r = shapefile.Reader('shp/shp_test')\n",
    "polygons = r.shapes()\n",
    "print(r.shapeType)\n",
    "print(polygons[0])\n",
    "print(polygons[0].points)"
   ]
  },
  {
   "cell_type": "code",
   "execution_count": 49,
   "id": "be3f22a3",
   "metadata": {},
   "outputs": [],
   "source": [
    " w = shapefile.Writer('shp/polygon_with_hole')\n",
    "w.field('name', 'C')\n",
    "\n",
    "w.poly([\n",
    "[[113,24], [112,32], [117,36], [122,37], [118,20]], # poly 1\n",
    "[[116,29],[116,26],[119,29],[119,32]], # hole 1\n",
    "[[15,2], [17,6], [22,7]]  # poly 2\n",
    "])\n",
    "w.record('polygon1')\n",
    "\n",
    "w.close()"
   ]
  },
  {
   "cell_type": "code",
   "execution_count": 50,
   "id": "f67a5ec0",
   "metadata": {},
   "outputs": [
    {
     "name": "stdout",
     "output_type": "stream",
     "text": [
      "5\n",
      "Shape #0: POLYGON\n",
      "[(113.0, 24.0), (112.0, 32.0), (117.0, 36.0), (122.0, 37.0), (118.0, 20.0), (113.0, 24.0), (116.0, 29.0), (116.0, 26.0), (119.0, 29.0), (119.0, 32.0), (116.0, 29.0), (15.0, 2.0), (17.0, 6.0), (22.0, 7.0), (15.0, 2.0)]\n"
     ]
    }
   ],
   "source": [
    "r = shapefile.Reader('shp/polygon_with_hole')\n",
    "polygons = r.shapes()\n",
    "print(r.shapeType)\n",
    "print(polygons[0])\n",
    "print(polygons[0].points)"
   ]
  },
  {
   "cell_type": "code",
   "execution_count": null,
   "id": "6e167cc0",
   "metadata": {},
   "outputs": [],
   "source": []
  }
 ],
 "metadata": {
  "kernelspec": {
   "display_name": "Python 3 (ipykernel)",
   "language": "python",
   "name": "python3"
  },
  "language_info": {
   "codemirror_mode": {
    "name": "ipython",
    "version": 3
   },
   "file_extension": ".py",
   "mimetype": "text/x-python",
   "name": "python",
   "nbconvert_exporter": "python",
   "pygments_lexer": "ipython3",
   "version": "3.9.7"
  }
 },
 "nbformat": 4,
 "nbformat_minor": 5
}
