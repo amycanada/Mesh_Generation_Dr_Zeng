{
 "cells": [
  {
   "cell_type": "code",
   "execution_count": 2,
   "id": "90ee9ea9",
   "metadata": {},
   "outputs": [
    {
     "name": "stdout",
     "output_type": "stream",
     "text": [
      "5\n",
      "Shape #0: POLYGON\n",
      "[(-1016.6310221816123, 833.8289192898797), (-316.9584243168433, 327.2951114606981), (-947.3925880179111, 137.80044953899005), (-1304.5171431780534, 582.3840794322284), (-1016.6310221816123, 833.8289192898797)]\n",
      "[(-1027.5634065232491, 596.9605918877444), (-801.6274634627509, 567.8075669767123), (-870.8658976264521, 345.51575203009315), (-1042.1399189787653, 465.7719797881002), (-1027.5634065232491, 596.9605918877444)]\n"
     ]
    }
   ],
   "source": [
    "import shapefile\n",
    "r = shapefile.Reader('shp/polygon_with_hole_test')\n",
    "polygons = r.shapes()\n",
    "print(r.shapeType)\n",
    "print(polygons[0])\n",
    "print(polygons[0].points)\n",
    "print(polygons[1].points)"
   ]
  },
  {
   "cell_type": "code",
   "execution_count": null,
   "id": "ecac0ad9",
   "metadata": {},
   "outputs": [],
   "source": []
  }
 ],
 "metadata": {
  "kernelspec": {
   "display_name": "Python 3 (ipykernel)",
   "language": "python",
   "name": "python3"
  },
  "language_info": {
   "codemirror_mode": {
    "name": "ipython",
    "version": 3
   },
   "file_extension": ".py",
   "mimetype": "text/x-python",
   "name": "python",
   "nbconvert_exporter": "python",
   "pygments_lexer": "ipython3",
   "version": "3.9.7"
  }
 },
 "nbformat": 4,
 "nbformat_minor": 5
}
