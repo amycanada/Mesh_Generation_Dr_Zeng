{
 "cells": [
  {
   "cell_type": "code",
   "execution_count": 23,
   "id": "1e626920",
   "metadata": {},
   "outputs": [],
   "source": [
    "from shapely.geometry import Point\n",
    "import math\n",
    "def get_angle(point1,point2,point3):\n",
    "\n",
    "    # Angle between line1 and x-axis\n",
    "    try:\n",
    "        slope1 = (point1.y - point2.y) / float(point1.x - point2.x)\n",
    "        angle1 = abs(math.degrees(math.atan(slope1))) # Taking only the positive angle\n",
    "    except:\n",
    "        angle1 = 90\n",
    "        \n",
    "    # Angle between line2 and x-axis\n",
    "    try:\n",
    "        slope2 = (point3.y - point2.y) / float(point3.x - point2.x)\n",
    "        angle2 = abs(math.degrees(math.atan(slope2)))\n",
    "    except:\n",
    "        angle2 = 90\n",
    "        \n",
    "    print('angle1',angle1,'angle2',angle2)\n",
    "    theta1 = min(angle1, angle2)\n",
    "    theta2 = max(angle1, angle2)\n",
    "\n",
    "    angle = theta2 - theta1\n",
    "    return angle"
   ]
  },
  {
   "cell_type": "code",
   "execution_count": 27,
   "id": "14d81a0c",
   "metadata": {},
   "outputs": [
    {
     "name": "stdout",
     "output_type": "stream",
     "text": [
      "angle1 0.0 angle2 45.0\n",
      "45.0\n"
     ]
    }
   ],
   "source": [
    "p1 = Point(3,3)\n",
    "p2 = Point(0,0)\n",
    "p3 = Point(3,0)\n",
    "print(get_angle(p3,p2,p1))"
   ]
  },
  {
   "cell_type": "code",
   "execution_count": null,
   "id": "f4aa894b",
   "metadata": {},
   "outputs": [],
   "source": []
  }
 ],
 "metadata": {
  "kernelspec": {
   "display_name": "Python 3 (ipykernel)",
   "language": "python",
   "name": "python3"
  },
  "language_info": {
   "codemirror_mode": {
    "name": "ipython",
    "version": 3
   },
   "file_extension": ".py",
   "mimetype": "text/x-python",
   "name": "python",
   "nbconvert_exporter": "python",
   "pygments_lexer": "ipython3",
   "version": "3.9.7"
  }
 },
 "nbformat": 4,
 "nbformat_minor": 5
}
